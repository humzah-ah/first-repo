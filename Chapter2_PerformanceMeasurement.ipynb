{
  "cells": [
    {
      "cell_type": "markdown",
      "metadata": {
        "id": "view-in-github",
        "colab_type": "text"
      },
      "source": [
        "<a href=\"https://colab.research.google.com/github/humzah-ah/first-repo/blob/main/Chapter2_PerformanceMeasurement.ipynb\" target=\"_parent\"><img src=\"https://colab.research.google.com/assets/colab-badge.svg\" alt=\"Open In Colab\"/></a>"
      ]
    },
    {
      "cell_type": "markdown",
      "metadata": {
        "id": "qNQrKaAgQrBn"
      },
      "source": [
        "# Overview of Performance Measurement\n",
        "* Alpha and Beta\n",
        "* Risk-Reward Ratios\n",
        "* Estimating Performance Measures\n",
        "* Time Horizons and Annualizing Performance Measures\n",
        "* High Water Mark\n",
        "* Drawdown\n",
        "* Adjusting Performance Measures for Illiquidity and Stale Prices\n",
        "* Performance Attribution\n",
        "* Backtests and Track Records"
      ]
    },
    {
      "cell_type": "markdown",
      "metadata": {
        "id": "F7KyHJefyrSF"
      },
      "source": [
        "# Linear Regression in CAPM\n",
        "$$\n",
        "E(R_i-r_f)=\\beta\\times E(R_M-r_f)\n",
        "$$\n",
        "$E$ is expectation, or mean. Let's say:\n",
        "$$\n",
        "R_i^e=R_i-r_f\\\\\n",
        "R_M^e=R_M-r_f\n",
        "$$\n",
        "\n",
        "When you run regression of $R_i^e$ on $R_M^e$:\n",
        "$$\n",
        "R_{i,t}^e=\\alpha_i+\\beta\\times R_{M,t}^e+\\epsilon_{i,t}\n",
        "$$\n",
        "What is $\\alpha$, $\\beta$, $\\epsilon$?"
      ]
    },
    {
      "cell_type": "markdown",
      "metadata": {
        "id": "9kziAnlD1ML9"
      },
      "source": [
        "* $\\beta$ = market risk, tendency to follow the market\n",
        "* $\\alpha$ = excess return, adjusted for market risk, due to HF trading skills (or luck)\n",
        "* $\\epsilon$ = idiosyncratic risk\n",
        "\n",
        "What is market neutral?\n",
        "* Market neutral hedge fund: $\\beta=0$\n",
        "* \"market neutral excess return\": $R_{i,t}^e-\\beta\\times R_{M,t}^e=\\alpha_i+\\epsilon_{i,t}$\n",
        "* $E(market\\,neutral\\,excess\\,return)=\\alpha$\n",
        "\n",
        "How do we go market neutral?\n"
      ]
    },
    {
      "cell_type": "markdown",
      "metadata": {
        "id": "kjwpJs8Y2jiW"
      },
      "source": [
        "Why separate $\\alpha$ and $\\beta$?\n",
        "* $\\beta\\times R_{M,t}^e$: can be achieved using index fund\n",
        "* No need to pay large fees for this (e.g. Vanguard will do it for around 0.1%)\n",
        "* $\\beta$ necessary for risk management:\n",
        "* If you mix a (long) HF into a portfolio with other market risk, the beta risk will not go away\n",
        "* How large a fee should investors at most pay?\n"
      ]
    },
    {
      "cell_type": "markdown",
      "metadata": {
        "id": "Ob6fGkQo3pBz"
      },
      "source": [
        "# More than market risk\n",
        "Adjusting for more than market risk:\n",
        "* Three-factor model of Fama and French (1993):\n",
        "$$\n",
        "R_i^e=\\alpha+\\beta_M\\times R_M^e+\\beta_{SMB}\\times R_{SMB}+\\beta_{HML}\\times R_{HML}+\\epsilon\n",
        "$$\n",
        "* High minus low (HML): Value strategy based on B/M\n",
        "* Small minus big (SMB): Size bet based on market capitalization\n",
        "\n",
        "What does alpha mean here?\n",
        "\n",
        "Alpha and betas with respect to all your current risk factors are relevant."
      ]
    },
    {
      "cell_type": "markdown",
      "metadata": {
        "id": "VMMVIrXL4iZr"
      },
      "source": [
        "# Risk-Reward Ratios\n",
        "* The reward for investments is:\n",
        "* expected return, or\n",
        "* expected abnormal return, i.e., alpha\n",
        "* Positive reward is good and negative reward is bad\n",
        "* but is higher expected return always better?\n",
        "* What about risk?\n",
        "* Returns/alphas depend on how a strategy is scaled:\n",
        "* a twice-leveraged strategy has twice the return/alpha of an unleveraged version of the same strategy\n",
        "* Solution:\n",
        "* We need to consider reward-to-risk ratios\n"
      ]
    },
    {
      "cell_type": "markdown",
      "metadata": {
        "id": "G3uuHwF_4-uM"
      },
      "source": [
        "# Sharpe Ratio\n",
        "$$\n",
        "SR=\\frac{E(R-r_f)}{\\sigma(R-r_f)}\n",
        "$$\n",
        "\n",
        "* SR measures the “reward” for taking risk, per unit of risk that you take\n",
        "* Reward = expected return over the risk-free rate\n",
        "* Risk = standard deviation of return\n"
      ]
    },
    {
      "cell_type": "code",
      "execution_count": null,
      "metadata": {
        "colab": {
          "base_uri": "https://localhost:8080/"
        },
        "id": "0iYiBs5DbUnK",
        "outputId": "10f9188c-e632-425c-b434-94b90e2daa77"
      },
      "outputs": [
        {
          "output_type": "stream",
          "name": "stdout",
          "text": [
            "Mounted at ./mount\n"
          ]
        }
      ],
      "source": [
        "import pandas as pd\n",
        "import numpy as np\n",
        "from google.colab import drive\n",
        "drive.mount('./mount')"
      ]
    },
    {
      "cell_type": "code",
      "execution_count": null,
      "metadata": {
        "colab": {
          "base_uri": "https://localhost:8080/"
        },
        "id": "jXfCda4Tbqm2",
        "outputId": "37c94c54-06ca-40cd-a820-aa7ab2cc24cd"
      },
      "outputs": [
        {
          "output_type": "stream",
          "name": "stdout",
          "text": [
            "   IndexReference MonthEndDate      NAV  RateOfReturn              IndexName  \\\n",
            "0               1   2000-01-31  14382.8     -1.757502  ASX All Ordinaries TR   \n",
            "1               1   2000-02-29  14613.1      1.601218  ASX All Ordinaries TR   \n",
            "\n",
            "  Abbreviation   StartDate     EndDate  InitialNAV  \n",
            "0      ASX DRI  1990-08-31  2024-08-31      4804.8  \n",
            "1      ASX DRI  1990-08-31  2024-08-31      4804.8  \n"
          ]
        }
      ],
      "source": [
        "tass = pd.read_csv('mount/My Drive/Colab Notebooks/TASS.csv', encoding='unicode_escape')\n",
        "print(tass.head(2))"
      ]
    },
    {
      "cell_type": "code",
      "execution_count": null,
      "metadata": {
        "colab": {
          "base_uri": "https://localhost:8080/"
        },
        "id": "JUC-S2qybvxT",
        "outputId": "e1243a26-8680-4e38-eda9-27ecf9356c7c"
      },
      "outputs": [
        {
          "output_type": "stream",
          "name": "stdout",
          "text": [
            "   IndexReference MonthEndDate     NAV  RateOfReturn  \\\n",
            "0            1060   2004-09-30  100.00          0.00   \n",
            "1            1060   2004-10-31  101.05          1.05   \n",
            "\n",
            "                          IndexName Abbreviation   StartDate     EndDate  \\\n",
            "0  Credit Suisse AllHedge Index USD       CSTR60  2004-09-30  2024-08-31   \n",
            "1  Credit Suisse AllHedge Index USD       CSTR60  2004-09-30  2024-08-31   \n",
            "\n",
            "   InitialNAV  \n",
            "0       100.0  \n",
            "1       100.0  \n"
          ]
        }
      ],
      "source": [
        "# select an index\n",
        "hf = tass[tass.IndexName=='Credit Suisse AllHedge Index USD'].sort_values(['MonthEndDate']).\\\n",
        "     reset_index(drop=True)\n",
        "print(hf.head(2))"
      ]
    },
    {
      "cell_type": "code",
      "execution_count": null,
      "metadata": {
        "colab": {
          "base_uri": "https://localhost:8080/"
        },
        "id": "5_smOnbIcNa7",
        "outputId": "67957d7b-e5fa-458b-cf9f-b584a95b4c1d"
      },
      "outputs": [
        {
          "output_type": "stream",
          "name": "stdout",
          "text": [
            "count    240.000000\n",
            "mean       0.002397\n",
            "std        0.017361\n",
            "min       -0.104525\n",
            "25%       -0.004988\n",
            "50%        0.003443\n",
            "75%        0.013287\n",
            "max        0.041535\n",
            "Name: return, dtype: float64\n"
          ]
        }
      ],
      "source": [
        "# rate of return is percentages,\n",
        "# let's convert to regular digits\n",
        "hf['return'] = hf['RateOfReturn']/100\n",
        "print(hf['return'].describe())"
      ]
    },
    {
      "cell_type": "code",
      "execution_count": null,
      "metadata": {
        "colab": {
          "base_uri": "https://localhost:8080/"
        },
        "id": "b-MyPASWc9Nm",
        "outputId": "73e7165a-c601-4039-b67d-8d25e9ef301d"
      },
      "outputs": [
        {
          "output_type": "stream",
          "name": "stdout",
          "text": [
            "0.13836672958856627\n"
          ]
        }
      ],
      "source": [
        "# compute the Sharpe ratio of this index\n",
        "# let's just assume risk-free rate is zero here for simplicity\n",
        "print(np.mean(hf['return'].values)/np.std(hf['return'].values))"
      ]
    },
    {
      "cell_type": "code",
      "execution_count": null,
      "metadata": {
        "id": "scPOZ32Jemt1"
      },
      "outputs": [],
      "source": [
        "# risk-free rate can be obtained from French's website\n",
        "# http://mba.tuck.dartmouth.edu/pages/faculty/ken.french/data_library.html\n",
        "ff5 = pd.read_csv('mount/My Drive/Colab Notebooks/FF5_202407.csv')"
      ]
    },
    {
      "cell_type": "code",
      "execution_count": null,
      "metadata": {
        "colab": {
          "base_uri": "https://localhost:8080/"
        },
        "id": "du7ealYXe_zi",
        "outputId": "3228f632-8f6b-441a-9ed4-5c9f9457d196"
      },
      "outputs": [
        {
          "output_type": "stream",
          "name": "stdout",
          "text": [
            "    month  Mkt-RF   SMB   HML   RMW   CMA    RF\n",
            "0  196307   -0.39 -0.41 -0.97  0.68 -1.18  0.27\n",
            "1  196308    5.07 -0.80  1.80  0.36 -0.35  0.25\n"
          ]
        }
      ],
      "source": [
        "print(ff5.head(2))"
      ]
    },
    {
      "cell_type": "code",
      "execution_count": null,
      "metadata": {
        "colab": {
          "base_uri": "https://localhost:8080/"
        },
        "id": "HO9eLzLyfCo7",
        "outputId": "b9ac8f65-eba3-4a2e-fa9d-67c6ee6489e9"
      },
      "outputs": [
        {
          "output_type": "stream",
          "name": "stderr",
          "text": [
            "<ipython-input-21-7866dd5d40a6>:2: SettingWithCopyWarning: \n",
            "A value is trying to be set on a copy of a slice from a DataFrame.\n",
            "Try using .loc[row_indexer,col_indexer] = value instead\n",
            "\n",
            "See the caveats in the documentation: https://pandas.pydata.org/pandas-docs/stable/user_guide/indexing.html#returning-a-view-versus-a-copy\n",
            "  rf['RF'] = rf['RF']/100\n"
          ]
        }
      ],
      "source": [
        "rf = ff5[['month','RF']]\n",
        "rf['RF'] = rf['RF']/100"
      ]
    },
    {
      "cell_type": "code",
      "execution_count": null,
      "metadata": {
        "id": "8gsgKq2ifJDQ"
      },
      "outputs": [],
      "source": [
        "# merge the two\n",
        "# we need a common column to merge, which is the month\n",
        "hf['month'] = hf['MonthEndDate'].apply(lambda x:int(str(x)[:4]+str(x)[5:7]))"
      ]
    },
    {
      "cell_type": "code",
      "execution_count": null,
      "metadata": {
        "colab": {
          "base_uri": "https://localhost:8080/"
        },
        "id": "1m__06I_feJd",
        "outputId": "4acdf732-8ed7-4fd2-c966-36c7fbd388ad"
      },
      "outputs": [
        {
          "output_type": "stream",
          "name": "stdout",
          "text": [
            "   IndexReference MonthEndDate     NAV  RateOfReturn  \\\n",
            "0            1060   2004-09-30  100.00          0.00   \n",
            "1            1060   2004-10-31  101.05          1.05   \n",
            "\n",
            "                          IndexName Abbreviation   StartDate     EndDate  \\\n",
            "0  Credit Suisse AllHedge Index USD       CSTR60  2004-09-30  2024-08-31   \n",
            "1  Credit Suisse AllHedge Index USD       CSTR60  2004-09-30  2024-08-31   \n",
            "\n",
            "   InitialNAV  return   month      RF  \n",
            "0       100.0  0.0000  200409  0.0011  \n",
            "1       100.0  0.0105  200410  0.0011  \n"
          ]
        }
      ],
      "source": [
        "hf_rf = pd.merge(hf,rf,how='inner',on=['month'])\n",
        "print(hf_rf.head(2))"
      ]
    },
    {
      "cell_type": "code",
      "execution_count": null,
      "metadata": {
        "colab": {
          "base_uri": "https://localhost:8080/"
        },
        "id": "VJJumSTRfl5U",
        "outputId": "b857e1da-e598-4662-93d9-0553a47a829c"
      },
      "outputs": [
        {
          "output_type": "stream",
          "name": "stdout",
          "text": [
            "0.067999293349538\n"
          ]
        }
      ],
      "source": [
        "# ok, let's compute the excess return\n",
        "hf_rf['exret'] = hf_rf['return'] - hf_rf['RF']\n",
        "print(np.mean(hf_rf['exret'].values)/np.std(hf_rf['exret'].values))"
      ]
    },
    {
      "cell_type": "markdown",
      "metadata": {
        "id": "ymS1hb_-5gnj"
      },
      "source": [
        "# Information Ratio\n",
        "$$\n",
        "IR=\\frac{E(R-R_b)}{\\sigma(R-R_b)}\n",
        "$$\n",
        "\n",
        "* Where $R_b$ is the return on a benchmark b (everything usually annualized, see later)\n",
        "* The denominator is also called the “tracking error”\n",
        "* Sometimes, the benchmark exposure is estimated using a regression:\n",
        "$$\n",
        "R^e=\\alpha+\\beta\\times R_b^e+\\epsilon\n",
        "$$\n",
        "* (The first definition implicitly sets $\\beta=1$.) In the general case, the IR is defined as:\n",
        "$$\n",
        "IR=\\frac{\\alpha}{\\sigma(\\epsilon)}\n",
        "$$\n",
        "* Some HF managers use a cash benchmark ($R_b =0$) and compute IR simply as:\n",
        "$$\n",
        "IR=\\frac{E(R)}{\\sigma(R)}\n",
        "$$\n"
      ]
    },
    {
      "cell_type": "code",
      "execution_count": null,
      "metadata": {
        "colab": {
          "base_uri": "https://localhost:8080/"
        },
        "id": "XzHSiJQHf9Sc",
        "outputId": "b99d1bfb-9175-4366-8514-1ee8f3d84c17"
      },
      "outputs": [
        {
          "name": "stdout",
          "output_type": "stream",
          "text": [
            "-0.20473666344411273\n"
          ]
        },
        {
          "name": "stderr",
          "output_type": "stream",
          "text": [
            "<ipython-input-15-dc340730987d>:4: SettingWithCopyWarning: \n",
            "A value is trying to be set on a copy of a slice from a DataFrame.\n",
            "Try using .loc[row_indexer,col_indexer] = value instead\n",
            "\n",
            "See the caveats in the documentation: https://pandas.pydata.org/pandas-docs/stable/user_guide/indexing.html#returning-a-view-versus-a-copy\n",
            "  mktrf['Mkt-RF'] = mktrf['Mkt-RF']/100\n"
          ]
        }
      ],
      "source": [
        "# suppose we use the whole stock market index as benchmark\n",
        "# which is the mkt-rf in ff5\n",
        "mktrf = ff5[['month','Mkt-RF']]\n",
        "mktrf['Mkt-RF'] = mktrf['Mkt-RF']/100\n",
        "mktrf.columns = ['month','MktRF']\n",
        "# merge with hf_rf\n",
        "hf_mkt = pd.merge(hf_rf,mktrf,how='inner',on=['month'])\n",
        "# remember Mkt_RF is market \"excess\" return, so add RF back\n",
        "hf_mkt['Mkt'] = hf_mkt['MktRF'] + hf_mkt['RF']\n",
        "# OK\n",
        "hf_mkt['HF_Mkt'] = hf_mkt['return'] - hf_mkt['Mkt']\n",
        "print(np.mean(hf_mkt['HF_Mkt'].values)/np.std(hf_mkt['HF_Mkt'].values))"
      ]
    },
    {
      "cell_type": "markdown",
      "metadata": {
        "id": "kRI0__LU_--m"
      },
      "source": [
        "# Downside Risk\n",
        "* Sortino ratio:\n",
        "$$\n",
        "S=\\frac{E(R-r_f)}{\\sigma^{downside}}\n",
        "$$\n",
        "* The downside risk (or downside deviation) is calculated as the standard deviation of returns truncated above some minimum acceptable return (MAR):\n",
        "$$\n",
        "\\sigma^{downside}=\\sigma(R\\cdot 1_{R<MAR})\n",
        "$$\n",
        "* where $1_{R<MAR}$ is an indicator function that equals 1 if the condition is satisfied, and 0 otherwise."
      ]
    },
    {
      "cell_type": "code",
      "execution_count": null,
      "metadata": {
        "colab": {
          "base_uri": "https://localhost:8080/"
        },
        "id": "aEOP88FvhIQ9",
        "outputId": "f2485aea-9efa-4dff-df48-19405e2b356b"
      },
      "outputs": [
        {
          "name": "stdout",
          "output_type": "stream",
          "text": [
            "0.0979583937256965\n"
          ]
        }
      ],
      "source": [
        "# suppose our MAR is zero\n",
        "# create a variable that equals one if hedge fund return is below zero,\n",
        "# or 0 otherwise\n",
        "hf_mkt['return_flag'] = np.where(hf_mkt['return']<0,1,0)\n",
        "hf_mkt['ret_down'] = hf_mkt['return'] * hf_mkt['return_flag']\n",
        "print(np.mean(hf_mkt['exret'].values)/np.std(hf_mkt['ret_down'].values))"
      ]
    },
    {
      "cell_type": "markdown",
      "metadata": {
        "id": "u3x6T0uaBJ2l"
      },
      "source": [
        "# Estimating performance measures\n",
        "* Past mean:\n",
        "$$\n",
        "geometric\\,mean=[(1+R_1)\\times(1+R_2)\\times...\\times(1+R_T)]^{1/T}-1\\\\\n",
        "arithmetic\\,mean=\\bar R=(R_1+R_2+...+R_T)/T\n",
        "$$\n",
        "* Risk\n",
        "$$\n",
        "variance=[(R_1-\\bar R)^2+(R_2-\\bar R)^2+...+(R_T-\\bar R)^2]/(T-1)\\\\\n",
        "standard\\,deviation=\\sqrt{variance}\n",
        "$$\n",
        "* Standard deviation is also called volatility in finance"
      ]
    },
    {
      "cell_type": "code",
      "execution_count": null,
      "metadata": {
        "colab": {
          "base_uri": "https://localhost:8080/"
        },
        "id": "FXHXdjxpiEeX",
        "outputId": "dd037907-f5d6-4a70-b544-1bb6038cd08f"
      },
      "outputs": [
        {
          "name": "stdout",
          "output_type": "stream",
          "text": [
            "0.0022533898499861316\n"
          ]
        }
      ],
      "source": [
        "# geometric mean\n",
        "# first get 1+r\n",
        "hf_mkt['ret_plus'] = hf_mkt['return'] + 1\n",
        "print((np.prod(hf_mkt.ret_plus.values))**(1/(hf_mkt.ret_plus.values.size))-1)"
      ]
    },
    {
      "cell_type": "code",
      "execution_count": null,
      "metadata": {
        "colab": {
          "base_uri": "https://localhost:8080/"
        },
        "id": "T4Sy3F0qjXXH",
        "outputId": "ec541f84-9231-4591-c4bf-0f03b5b921b6"
      },
      "outputs": [
        {
          "name": "stdout",
          "output_type": "stream",
          "text": [
            "0.0024072334413472803\n"
          ]
        }
      ],
      "source": [
        "# arithmetic\n",
        "print(np.mean(hf_mkt['return'].values))"
      ]
    },
    {
      "cell_type": "code",
      "execution_count": null,
      "metadata": {
        "colab": {
          "base_uri": "https://localhost:8080/"
        },
        "id": "0cIQ38NJjgqa",
        "outputId": "34c3ef45-ab24-423a-dea4-99acd136a32f"
      },
      "outputs": [
        {
          "name": "stdout",
          "output_type": "stream",
          "text": [
            "0.00030138728893760883\n"
          ]
        }
      ],
      "source": [
        "# variance\n",
        "print(np.var(hf_mkt['return'].values))"
      ]
    },
    {
      "cell_type": "markdown",
      "metadata": {
        "id": "U3rH8v_fCqBT"
      },
      "source": [
        "# Annualizing\n",
        "* Arithmetic returns with n  measurement periods per year:\n",
        "$$\n",
        "E(R_{annual}) = E(R)\\times n\n",
        "$$\n",
        "* Geometric returns:\n",
        "$$\n",
        "E(R_{annual}) = (1 + E(R))^n - 1\n",
        "$$\n",
        "* Variance:\n",
        "$$\n",
        "Var_{annual} = var \\times n\n",
        "$$\n",
        "* Standard deviation/ volatility:\n",
        "$$\n",
        "\\sigma_{annual} = \\sigma \\times \\sqrt{n}\n",
        "$$\n",
        "* Sharpe ratio:\n",
        "$$\n",
        "SR_{annual} = ER_{annual} / \\sigma_{annual} = SR \\times \\sqrt{n}\n",
        "$$\n"
      ]
    },
    {
      "cell_type": "markdown",
      "metadata": {
        "id": "iaUJlcrPD4Gx"
      },
      "source": [
        "# High Water Mark\n",
        "* Consider a hedge fund's price of shares or its cumulative return $P_t$, where:\n",
        "$$\n",
        "P_t = P_{t-1} \\times (1 + R_t)\n",
        "$$\n",
        "* The high water mark (HWM) is the highest price $P_t$ (or highest cumulative return) it has achieved in the past:\n",
        "$$\n",
        "HWM_t = max_{s\\leq t} P_s\n",
        "$$\n",
        "* Often hedge funds only charge performance fees when their returns are above their HWM.\n",
        "* If they have experienced losses, they must first make these back and only charge performance fees on the profits above their HWM.\n"
      ]
    },
    {
      "cell_type": "code",
      "execution_count": null,
      "metadata": {
        "colab": {
          "base_uri": "https://localhost:8080/"
        },
        "id": "KI29T2CdjstA",
        "outputId": "44da63f6-7ed6-4606-cd5e-101c679024ef"
      },
      "outputs": [
        {
          "name": "stdout",
          "output_type": "stream",
          "text": [
            "1.7173999999908927\n"
          ]
        }
      ],
      "source": [
        "# we have created a return plus one column\n",
        "# let's create a cumulative return column\n",
        "hf_mkt['cumret'] = hf_mkt['ret_plus'].cumprod()\n",
        "print(hf_mkt.cumret.max())"
      ]
    },
    {
      "cell_type": "markdown",
      "metadata": {
        "id": "k29drvmME3UC"
      },
      "source": [
        "# Drawdown\n",
        "* An important risk measure for a hedge fund strategy is its drawdown (DD).\n",
        "* The drawdown is the cumulative loss since losses started.\n",
        "$$\n",
        "DD_t = \\frac{HWMt - P_t}{HWM_t}\n",
        "$$\n",
        "* Experiencing large drawdowns is costly and risky:\n",
        "  * can lead to redemptions from investors\n",
        "  * concerns from counterparties, for example, prime brokers increasing margin requirements or completely pulling the financing of the hedge fund's positions.\n",
        "* When evaluating a strategy, people sometimes consider its maximum drawdown (MDD) over some past time period:\n",
        "$$\n",
        "MDD_T = max_{t\\leq T} DD_t\n",
        "$$\n",
        "* If the cumulative returns are arithmetic, $P_t = P_{t-1} + R_t$, then the drawdown is also defined in an additive way,\n",
        "$$\n",
        "DD_t = HWM_t - P_t\n",
        "$$\n"
      ]
    },
    {
      "cell_type": "code",
      "execution_count": null,
      "metadata": {
        "colab": {
          "base_uri": "https://localhost:8080/"
        },
        "id": "48wrR0p0kEBe",
        "outputId": "0c8fa4f5-9f6e-4957-f9a1-d1d3f6141254"
      },
      "outputs": [
        {
          "name": "stdout",
          "output_type": "stream",
          "text": [
            "count    239.000000\n",
            "mean       0.049094\n",
            "std        0.060468\n",
            "min        0.000000\n",
            "25%        0.004294\n",
            "50%        0.032121\n",
            "75%        0.070240\n",
            "max        0.284156\n",
            "Name: DD, dtype: float64\n"
          ]
        }
      ],
      "source": [
        "# we need historical HWM every month\n",
        "# so use a rolling function\n",
        "hf_mkt['HWM'] = hf_mkt['cumret'].cummax()\n",
        "hf_mkt['DD'] = (hf_mkt['HWM'] - hf_mkt['cumret'])/hf_mkt['HWM']\n",
        "print(hf_mkt.DD.describe())"
      ]
    },
    {
      "cell_type": "code",
      "execution_count": null,
      "metadata": {
        "colab": {
          "base_uri": "https://localhost:8080/"
        },
        "id": "NWA0smkhk12C",
        "outputId": "ac99b158-37af-46dd-b0b4-a0977db030cf"
      },
      "outputs": [
        {
          "name": "stdout",
          "output_type": "stream",
          "text": [
            "count                              239\n",
            "mean     2014-08-30 16:10:02.510460160\n",
            "min                2004-09-30 00:00:00\n",
            "25%                2009-09-15 00:00:00\n",
            "50%                2014-08-31 00:00:00\n",
            "75%                2019-08-15 12:00:00\n",
            "max                2024-07-31 00:00:00\n",
            "Name: Time, dtype: object\n"
          ]
        }
      ],
      "source": [
        "# we can plot HWM and DD in one plot\n",
        "# first we need to convert month to datetime object\n",
        "from datetime import datetime as dt\n",
        "def convert_month(x):\n",
        "  return dt.strptime(x,'%Y-%m-%d')\n",
        "hf_mkt['Time'] = hf_mkt['MonthEndDate'].apply(convert_month)\n",
        "print(hf_mkt['Time'].describe())"
      ]
    },
    {
      "cell_type": "code",
      "execution_count": null,
      "metadata": {
        "colab": {
          "base_uri": "https://localhost:8080/",
          "height": 805
        },
        "id": "WqvldgyalejG",
        "outputId": "3e769136-1e42-4b0c-fa4e-381762481239"
      },
      "outputs": [
        {
          "data": {
            "image/png": "[encoded data removed]",
            "text/plain": [
              "<Figure size 1200x900 with 1 Axes>"
            ]
          },
          "metadata": {},
          "output_type": "display_data"
        }
      ],
      "source": [
        "import matplotlib.pyplot as plt\n",
        "plt.figure(figsize=(12,9))\n",
        "plt.plot(hf_mkt['Time'].values,hf_mkt['HWM'].values,color='blue')\n",
        "plt.plot(hf_mkt['Time'].values,hf_mkt['DD'].values,color='red',linestyle='dashed')\n",
        "plt.xlabel('Month End',fontsize=14)\n",
        "plt.ylabel('Cumulative Value',fontsize=14)\n",
        "plt.title('HWM and DD',fontsize=18)\n",
        "plt.show()"
      ]
    },
    {
      "cell_type": "markdown",
      "metadata": {
        "id": "opV79pC5Ycok"
      },
      "source": [
        "# Do hedge funds hedge?\n",
        "* Many hedge funds claim to “hedge,” more precisely, to be market neutral\n",
        "* This is helpful because\n",
        "  * It provides diversification for investors\n",
        "  * Excess returns over Rf  are value-added (not just compensation for systematic risk)\n",
        "  * Justifies high fees\n",
        "* Do hedge funds have an incentive to hedge perfectly, i.e., choose $\\beta = 0$?"
      ]
    },
    {
      "cell_type": "markdown",
      "metadata": {
        "id": "uApFLAbAZk3k"
      },
      "source": [
        "# Performance Attribution\n",
        "* Hedge funds frequently review what factors are driving their returns, a process called performance attribution.\n",
        "* Look back over the previous quarter, say, and review\n",
        "  * which trades were the main positive return contributors and which ones detracted\n",
        "* This is useful both for the hedge fund's\n",
        "  * communication with its clients\n",
        "    * provides insight into the investment process\n",
        "    * the drivers of returns\n",
        "    * the risk factors to which they are exposed.\n",
        "  * internal planning and evaluations\n",
        "    * which investment strategies appear to be working\n",
        "    * which traders tend to make successful investments\n",
        "\n",
        "\n"
      ]
    },
    {
      "cell_type": "markdown",
      "metadata": {
        "id": "RGOpuaWVZJd6"
      },
      "source": [
        "# Performance Measures and Track Records\n",
        "* Should a performance measure be:\n",
        "  * Adjusted for trading costs?\n",
        "  * Before and after management fees?\n",
        "* What is important for\n",
        "  * Investors?\n",
        "  * HF managers / management company?\n",
        "* “Realized” performance measures:\n",
        "  * Risk and expected return estimated using realized returns\n",
        "  * E.g. rolling 12 month SR\n",
        "* Track record = realized performance measure, after trading costs and after fees\n"
      ]
    },
    {
      "cell_type": "code",
      "execution_count": null,
      "metadata": {
        "id": "7xC1m3fIQYgy"
      },
      "outputs": [],
      "source": []
    }
  ],
  "metadata": {
    "colab": {
      "provenance": [],
      "include_colab_link": true
    },
    "kernelspec": {
      "display_name": "Python 3 (ipykernel)",
      "language": "python",
      "name": "python3"
    },
    "language_info": {
      "codemirror_mode": {
        "name": "ipython",
        "version": 3
      },
      "file_extension": ".py",
      "mimetype": "text/x-python",
      "name": "python",
      "nbconvert_exporter": "python",
      "pygments_lexer": "ipython3",
      "version": "3.11.5"
    }
  },
  "nbformat": 4,
  "nbformat_minor": 0
}